{
 "cells": [
  {
   "cell_type": "code",
   "execution_count": 23,
   "metadata": {},
   "outputs": [],
   "source": [
    "import pandas as pd\n",
    "import numpy as np\n",
    "from sklearn.model_selection import train_test_split\n",
    "from keras.layers import Input, LSTM, Embedding, Dense\n",
    "from keras.models import Model\n",
    "from keras.optimizers import RMSprop\n",
    "from keras.preprocessing.sequence import pad_sequences"
   ]
  },
  {
   "cell_type": "code",
   "execution_count": 24,
   "metadata": {},
   "outputs": [
    {
     "data": {
      "text/plain": [
       "3072"
      ]
     },
     "execution_count": 24,
     "metadata": {},
     "output_type": "execute_result"
    }
   ],
   "source": [
    "data = pd.read_csv('text2sql.csv')\n",
    "len(data)"
   ]
  },
  {
   "cell_type": "markdown",
   "metadata": {},
   "source": [
    "#### Data Cleanup"
   ]
  },
  {
   "cell_type": "code",
   "execution_count": 25,
   "metadata": {},
   "outputs": [],
   "source": [
    "# ToLower\n",
    "\n",
    "data['seq1'] = data['seq1'].str.lower()\n",
    "data['seq2'] = data['seq2'].str.lower()\n",
    "data['seq3'] = data['seq3'].str.lower()\n",
    "data['sql1'] = data['sql1'].str.lower()\n",
    "data['sql2'] = data['sql2'].str.lower()\n",
    "data['sql3'] = data['sql3'].str.lower()\n",
    "\n",
    "# Remove '?'\n",
    "data['seq1'] = data['seq1'].str.replace('?','')\n",
    "data['seq2'] = data['seq2'].str.replace('?','')\n",
    "data['seq3'] = data['seq3'].str.replace('?','')\n",
    "data['sql1'] = data['sql1'].str.replace('?','')\n",
    "data['sql2'] = data['sql2'].str.replace('?','')\n",
    "data['sql3'] = data['sql3'].str.replace('?','')\n",
    "\n",
    "# Append start_ targetsql _end\n",
    "\n",
    "data['sql1'] = 'start_ '+data['sql1'].astype(str)+' _end'\n",
    "data['sql2'] = 'start_ '+data['sql2'].astype(str)+' _end'\n",
    "data['sql3'] = 'start_ '+data['sql3'].astype(str)+' _end'"
   ]
  },
  {
   "cell_type": "code",
   "execution_count": 26,
   "metadata": {},
   "outputs": [],
   "source": [
    "# Input_Texts = Natural Language Text Sequence\n",
    "# Target_Texts = Natural Language SQL Sequence\n",
    "\n",
    "input_texts = []\n",
    "target_texts = []\n",
    "\n",
    "for column in data[['seq1', 'seq2', 'seq3']]:\n",
    "    columnobj = data[column]\n",
    "    input_texts.extend(columnobj.values.tolist())\n",
    "    \n",
    "for column in data[['sql1', 'sql2', 'sql3']]:\n",
    "    columnobj = data[column]\n",
    "    target_texts.extend(columnobj.values.tolist())\n",
    "    \n",
    "# input_texts,target_texts"
   ]
  },
  {
   "cell_type": "markdown",
   "metadata": {},
   "source": [
    "#### BOW Representation"
   ]
  },
  {
   "cell_type": "code",
   "execution_count": 27,
   "metadata": {},
   "outputs": [
    {
     "name": "stdout",
     "output_type": "stream",
     "text": [
      "Maximum SEQ Length 8\n",
      "Maximum SQL Length 16\n"
     ]
    }
   ],
   "source": [
    "all_seq_words=set()\n",
    "all_sql_words= set()\n",
    "\n",
    "length_list_seq = []\n",
    "length_list_sql = []\n",
    "\n",
    "sequence = data.seq1\n",
    "\n",
    "for l in sequence:\n",
    "    length_list_seq.append(len(l.split()))\n",
    "#     print(l.split())\n",
    "#     print(length_list)\n",
    "# print(np.max(length_list))\n",
    "for eng in sequence:\n",
    "    for word in eng.split():\n",
    "        if word not in all_seq_words:\n",
    "            all_seq_words.add(word)\n",
    "\n",
    "sequence = data.seq2 \n",
    "\n",
    "for l in sequence:\n",
    "    length_list_seq.append(len(l.split()))\n",
    "    \n",
    "for eng in sequence:\n",
    "    for word in eng.split():\n",
    "        if word not in all_seq_words:\n",
    "            all_seq_words.add(word)\n",
    "            \n",
    "print(\"Maximum SEQ Length\",np.max(length_list_seq))\n",
    "max_seq_length = np.max(length_list_seq)\n",
    "\n",
    "sequence = data.seq3\n",
    "\n",
    "for l in sequence:\n",
    "    length_list_seq.append(len(l.split()))\n",
    "    \n",
    "for eng in sequence:\n",
    "    for word in eng.split():\n",
    "        if word not in all_seq_words:\n",
    "            all_seq_words.add(word)\n",
    "    \n",
    "\n",
    "sequence = data.sql1 \n",
    "\n",
    "for l in sequence:\n",
    "    length_list_sql.append(len(l.split()))\n",
    "    \n",
    "for eng in sequence:\n",
    "    for word in eng.split():\n",
    "        if word not in all_sql_words:\n",
    "            all_sql_words.add(word)\n",
    "\n",
    "sequence = data.sql2 \n",
    "\n",
    "for l in sequence:\n",
    "    length_list_sql.append(len(l.split()))\n",
    "    \n",
    "for eng in sequence:\n",
    "    for word in eng.split():\n",
    "        if word not in all_sql_words:\n",
    "            all_sql_words.add(word)\n",
    "\n",
    "sequence = data.sql3 \n",
    "\n",
    "for l in sequence:\n",
    "    length_list_sql.append(len(l.split()))\n",
    "\n",
    "for eng in sequence:\n",
    "    for word in eng.split():\n",
    "        if word not in all_sql_words:\n",
    "            all_sql_words.add(word)\n",
    "                        \n",
    "print(\"Maximum SQL Length\",np.max(length_list_sql))\n",
    "max_sql_length = np.max(length_list_sql)"
   ]
  },
  {
   "cell_type": "code",
   "execution_count": 28,
   "metadata": {},
   "outputs": [
    {
     "name": "stdout",
     "output_type": "stream",
     "text": [
      "Number of samples: 9216\n",
      "Number of unique input tokens: 36\n",
      "Number of unique output tokens: 42\n",
      "Max sequence length for inputs: 8\n",
      "Max sequence length for outputs: 16\n"
     ]
    }
   ],
   "source": [
    "input_words = sorted(list(all_seq_words))\n",
    "target_words = sorted(list(all_sql_words))\n",
    "num_encoder_tokens = len(all_seq_words)\n",
    "num_decoder_tokens = len(all_sql_words)\n",
    "\n",
    "max_sql_length = np.max(length_list_sql)\n",
    "\n",
    "max_encoder_seq_length = max_seq_length # max([len(txt) for txt in input_texts])\n",
    "max_decoder_seq_length = max_sql_length#max([len(txt) for txt in target_texts])\n",
    "\n",
    "print('Number of samples:', len(input_texts))\n",
    "print('Number of unique input tokens:', num_encoder_tokens)\n",
    "print('Number of unique output tokens:', num_decoder_tokens)\n",
    "print('Max sequence length for inputs:', max_encoder_seq_length)\n",
    "print('Max sequence length for outputs:', max_decoder_seq_length)"
   ]
  },
  {
   "cell_type": "code",
   "execution_count": 29,
   "metadata": {},
   "outputs": [
    {
     "name": "stdout",
     "output_type": "stream",
     "text": [
      "['a', 'count', 'day', 'days', 'eight', 'eigth', 'eleven', 'five', 'for', 'forty', 'four', 'hour', 'is', 'last', 'me', 'my', 'nine', 'ninty', 'one', 'past', 'performance', 'seven', 'seventy', 'show', 'six', 'status', 'ten', 'three', 'total', 'trend', 'tweleve', 'twenty', 'two', 'walk', 'week', 'what']\n",
      "36\n"
     ]
    }
   ],
   "source": [
    "print(input_words)\n",
    "print(len(input_words))"
   ]
  },
  {
   "cell_type": "code",
   "execution_count": 30,
   "metadata": {},
   "outputs": [
    {
     "name": "stdout",
     "output_type": "stream",
     "text": [
      "['_end', 'aggregate', 'and', 'consecutive', 'day', 'days', 'eight', 'eigth', 'eigthhour', 'eigthhours', 'eleven', 'equal', 'equalt', 'five', 'forty', 'four', 'hour', 'hours', 'is', 'last', 'nine', 'ninty', 'of', 'one', 'past', 'select', 'selection', 'seven', 'seventy', 'six', 'sixty', 'start_', 'sum', 'ten', 'three', 'to', 'tweleve', 'twenty', 'two', 'walk', 'week', 'where']\n",
      "42\n"
     ]
    }
   ],
   "source": [
    "print(target_words)\n",
    "print(len(target_words))"
   ]
  },
  {
   "cell_type": "markdown",
   "metadata": {},
   "source": [
    "#### Assigning each unique word to an integer value."
   ]
  },
  {
   "cell_type": "code",
   "execution_count": 31,
   "metadata": {},
   "outputs": [],
   "source": [
    "input_token_index = dict([(word, i) for i, word in enumerate(input_words)])\n",
    "target_token_index = dict([(word, i) for i, word in enumerate(target_words)])\n",
    "# input_token_index,target_token_index"
   ]
  },
  {
   "cell_type": "code",
   "execution_count": 32,
   "metadata": {},
   "outputs": [
    {
     "data": {
      "text/plain": [
       "(36, 42)"
      ]
     },
     "execution_count": 32,
     "metadata": {},
     "output_type": "execute_result"
    }
   ],
   "source": [
    "len(input_token_index),len(target_token_index)"
   ]
  },
  {
   "cell_type": "code",
   "execution_count": 33,
   "metadata": {},
   "outputs": [],
   "source": [
    "# input_token_index,target_token_index"
   ]
  },
  {
   "cell_type": "code",
   "execution_count": 34,
   "metadata": {},
   "outputs": [
    {
     "data": {
      "text/plain": [
       "(9216, 9216)"
      ]
     },
     "execution_count": 34,
     "metadata": {},
     "output_type": "execute_result"
    }
   ],
   "source": [
    "len(input_texts),len(target_texts)"
   ]
  },
  {
   "cell_type": "code",
   "execution_count": 35,
   "metadata": {},
   "outputs": [
    {
     "data": {
      "text/plain": [
       "(36, 42)"
      ]
     },
     "execution_count": 35,
     "metadata": {},
     "output_type": "execute_result"
    }
   ],
   "source": [
    "num_encoder_tokens,num_decoder_tokens"
   ]
  },
  {
   "cell_type": "code",
   "execution_count": 36,
   "metadata": {},
   "outputs": [
    {
     "data": {
      "text/plain": [
       "(8, 16)"
      ]
     },
     "execution_count": 36,
     "metadata": {},
     "output_type": "execute_result"
    }
   ],
   "source": [
    "max_encoder_seq_length,max_decoder_seq_length"
   ]
  },
  {
   "cell_type": "code",
   "execution_count": 37,
   "metadata": {},
   "outputs": [],
   "source": [
    "total_length_sql = len(data['sql1']) + len(data['sql2']) + len(data['sql3'])\n",
    "total_length_seq = len(data['seq1']) + len(data['seq2']) + len(data['seq3'])"
   ]
  },
  {
   "cell_type": "code",
   "execution_count": 38,
   "metadata": {},
   "outputs": [],
   "source": [
    "encoder_input_data = np.zeros((total_length_seq, max_seq_length),dtype='float32')\n",
    "decoder_input_data = np.zeros((total_length_sql, max_sql_length),dtype='float32')\n",
    "decoder_target_data = np.zeros((total_length_sql, max_sql_length, num_decoder_tokens),dtype='float32')"
   ]
  },
  {
   "cell_type": "code",
   "execution_count": 39,
   "metadata": {},
   "outputs": [],
   "source": [
    "# import numpy as np\n",
    "\n",
    "# encoder_input_data = np.zeros((len(input_texts), max_encoder_seq_length),dtype='float32')\n",
    "# decoder_input_data = np.zeros((len(target_texts), max_decoder_seq_length),dtype='float32')\n",
    "# decoder_target_data = np.zeros((len(target_texts), max_decoder_seq_length,num_decoder_tokens),dtype='float32')"
   ]
  },
  {
   "cell_type": "code",
   "execution_count": 40,
   "metadata": {},
   "outputs": [
    {
     "data": {
      "text/plain": [
       "((9216, 8), (9216, 16), (9216, 16, 42))"
      ]
     },
     "execution_count": 40,
     "metadata": {},
     "output_type": "execute_result"
    }
   ],
   "source": [
    "encoder_input_data.shape,decoder_input_data.shape,decoder_target_data.shape"
   ]
  },
  {
   "cell_type": "code",
   "execution_count": 41,
   "metadata": {},
   "outputs": [
    {
     "data": {
      "text/plain": [
       "(36, 42)"
      ]
     },
     "execution_count": 41,
     "metadata": {},
     "output_type": "execute_result"
    }
   ],
   "source": [
    "num_encoder_tokens,num_decoder_tokens"
   ]
  },
  {
   "cell_type": "markdown",
   "metadata": {},
   "source": [
    "* The encoder_input_data will consist of  [144] samples of the maximum sequence length (40) filled with the respective one-hot-encoded tokens (in this case a vector of length 36)."
   ]
  },
  {
   "cell_type": "code",
   "execution_count": 42,
   "metadata": {},
   "outputs": [],
   "source": [
    "# code reference - https://nextjournal.com/gkoehler/machine-translation-seq2seq-cpu\n",
    "for i, (input_text, target_text) in enumerate(zip(input_texts,target_texts)):\n",
    "#     print(i,input_text,\"-->\",target_text)\n",
    "    for t, word in enumerate(input_text.split()):\n",
    "        encoder_input_data[i, t] = input_token_index[word]\n",
    "    for t, word in enumerate(target_text.split()):\n",
    "        # decoder_target_data is ahead of decoder_input_data by one timestep\n",
    "        decoder_input_data[i, t] = target_token_index[word]\n",
    "        if t > 0:\n",
    "            # decoder_target_data will be ahead by one timestep\n",
    "            # and will not include the start character.\n",
    "            decoder_target_data[i, t - 1, target_token_index[word]] = 1."
   ]
  },
  {
   "cell_type": "code",
   "execution_count": 43,
   "metadata": {},
   "outputs": [],
   "source": [
    "# encoder_input_data = pad_sequences(encoder_input_data, maxlen=max_encoder_seq_length,padding='pre')\n",
    "# encoder_input_data = np.flip(encoder_input_data,axis = 1)\n",
    "# decoder_input_data = pad_sequences(decoder_input_data, maxlen=max_decoder_seq_length)"
   ]
  },
  {
   "cell_type": "code",
   "execution_count": 44,
   "metadata": {},
   "outputs": [],
   "source": [
    "batch_size = 32  # batch size for training\n",
    "epochs = 5  # number of epochs to train for\n",
    "latent_dim = 256  # latent dimensionality of the encoding space\n",
    "\n",
    "rmsprop = RMSprop(learning_rate=0.001, rho=0.9)"
   ]
  },
  {
   "cell_type": "markdown",
   "metadata": {},
   "source": [
    "### Encoder"
   ]
  },
  {
   "cell_type": "code",
   "execution_count": 45,
   "metadata": {},
   "outputs": [],
   "source": [
    "encoder_inputs = Input(shape=(None,))\n",
    "en_x=  Embedding(num_encoder_tokens, latent_dim)(encoder_inputs)\n",
    "encoder = LSTM(latent_dim, return_state=True)\n",
    "encoder_outputs, state_h, state_c = encoder(en_x)\n",
    "# We discard `encoder_outputs` and only keep the states.\n",
    "encoder_states = [state_h, state_c]"
   ]
  },
  {
   "cell_type": "markdown",
   "metadata": {},
   "source": [
    "### Decoder"
   ]
  },
  {
   "cell_type": "code",
   "execution_count": 46,
   "metadata": {},
   "outputs": [],
   "source": [
    "# Set up the decoder, using `encoder_states` as initial state.\n",
    "decoder_inputs = Input(shape=(None,))\n",
    "\n",
    "dex=  Embedding(num_decoder_tokens, latent_dim)\n",
    "\n",
    "final_dex= dex(decoder_inputs)\n",
    "\n",
    "\n",
    "decoder_lstm = LSTM(latent_dim, return_sequences=True, return_state=True)\n",
    "\n",
    "decoder_outputs, _, _ = decoder_lstm(final_dex,initial_state=encoder_states)\n",
    "\n",
    "decoder_dense = Dense(num_decoder_tokens, activation='softmax')\n",
    "\n",
    "decoder_outputs = decoder_dense(decoder_outputs)\n",
    "\n",
    "model = Model([encoder_inputs, decoder_inputs], decoder_outputs)\n",
    "\n",
    "model.compile(optimizer='rmsprop', loss='categorical_crossentropy', metrics=['acc'])"
   ]
  },
  {
   "cell_type": "code",
   "execution_count": 47,
   "metadata": {},
   "outputs": [
    {
     "name": "stdout",
     "output_type": "stream",
     "text": [
      "Model: \"model_1\"\n",
      "__________________________________________________________________________________________________\n",
      "Layer (type)                    Output Shape         Param #     Connected to                     \n",
      "==================================================================================================\n",
      "input_1 (InputLayer)            (None, None)         0                                            \n",
      "__________________________________________________________________________________________________\n",
      "input_2 (InputLayer)            (None, None)         0                                            \n",
      "__________________________________________________________________________________________________\n",
      "embedding_1 (Embedding)         (None, None, 256)    9216        input_1[0][0]                    \n",
      "__________________________________________________________________________________________________\n",
      "embedding_2 (Embedding)         (None, None, 256)    10752       input_2[0][0]                    \n",
      "__________________________________________________________________________________________________\n",
      "lstm_1 (LSTM)                   [(None, 256), (None, 525312      embedding_1[0][0]                \n",
      "__________________________________________________________________________________________________\n",
      "lstm_2 (LSTM)                   [(None, None, 256),  525312      embedding_2[0][0]                \n",
      "                                                                 lstm_1[0][1]                     \n",
      "                                                                 lstm_1[0][2]                     \n",
      "__________________________________________________________________________________________________\n",
      "dense_1 (Dense)                 (None, None, 42)     10794       lstm_2[0][0]                     \n",
      "==================================================================================================\n",
      "Total params: 1,081,386\n",
      "Trainable params: 1,081,386\n",
      "Non-trainable params: 0\n",
      "__________________________________________________________________________________________________\n"
     ]
    }
   ],
   "source": [
    "model.summary()"
   ]
  },
  {
   "cell_type": "code",
   "execution_count": 48,
   "metadata": {},
   "outputs": [
    {
     "name": "stderr",
     "output_type": "stream",
     "text": [
      "C:\\Users\\vijay\\Anaconda3\\lib\\site-packages\\tensorflow_core\\python\\framework\\indexed_slices.py:424: UserWarning: Converting sparse IndexedSlices to a dense Tensor of unknown shape. This may consume a large amount of memory.\n",
      "  \"Converting sparse IndexedSlices to a dense Tensor of unknown shape. \"\n"
     ]
    },
    {
     "name": "stdout",
     "output_type": "stream",
     "text": [
      "Train on 8755 samples, validate on 461 samples\n",
      "Epoch 1/5\n",
      "8755/8755 [==============================] - 24s 3ms/step - loss: 0.5358 - acc: 0.8383 - val_loss: 0.2693 - val_acc: 0.9012\n",
      "Epoch 2/5\n",
      "8755/8755 [==============================] - 24s 3ms/step - loss: 0.1974 - acc: 0.9228 - val_loss: 0.1649 - val_acc: 0.9261\n",
      "Epoch 3/5\n",
      "8755/8755 [==============================] - 25s 3ms/step - loss: 0.1345 - acc: 0.9387 - val_loss: 0.1449 - val_acc: 0.9454\n",
      "Epoch 4/5\n",
      "8755/8755 [==============================] - 24s 3ms/step - loss: 0.0765 - acc: 0.9545 - val_loss: 0.0423 - val_acc: 0.9653\n",
      "Epoch 5/5\n",
      "8755/8755 [==============================] - 24s 3ms/step - loss: 0.0430 - acc: 0.9524 - val_loss: 0.0297 - val_acc: 0.9658\n"
     ]
    }
   ],
   "source": [
    "model.fit([encoder_input_data, decoder_input_data], decoder_target_data,\n",
    "          batch_size=batch_size,\n",
    "          epochs=epochs,\n",
    "          validation_split=0.05)\n",
    "model.save('seq2HealthSQL.h5')"
   ]
  },
  {
   "cell_type": "code",
   "execution_count": 49,
   "metadata": {},
   "outputs": [],
   "source": [
    "# model = Model([encoder_inputs, decoder_inputs], decoder_outputs)\n",
    "# model.compile(optimizer='rmsprop', loss='categorical_crossentropy')\n",
    "# model.load_weights(seq2HealthSQL.h5)"
   ]
  },
  {
   "cell_type": "code",
   "execution_count": 50,
   "metadata": {},
   "outputs": [],
   "source": [
    "encoder_model = Model(encoder_inputs, encoder_states)\n",
    "\n",
    "decoder_state_input_h = Input(shape=(latent_dim,))\n",
    "decoder_state_input_c = Input(shape=(latent_dim,))\n",
    "decoder_states_inputs = [decoder_state_input_h, decoder_state_input_c]\n",
    "\n",
    "final_dex2= dex(decoder_inputs)\n",
    "\n",
    "decoder_outputs2, state_h2, state_c2 = decoder_lstm(final_dex2, initial_state=decoder_states_inputs)\n",
    "decoder_states2 = [state_h2, state_c2]\n",
    "decoder_outputs2 = decoder_dense(decoder_outputs2)\n",
    "decoder_model = Model([decoder_inputs] + decoder_states_inputs,[decoder_outputs2] + decoder_states2)"
   ]
  },
  {
   "cell_type": "code",
   "execution_count": 51,
   "metadata": {},
   "outputs": [],
   "source": [
    "# reverse-lookup token index to turn sequences back to characters\n",
    "reverse_input_word_index = dict(\n",
    "  (i, word) for word, i in input_token_index.items())\n",
    "reverse_target_word_index = dict(\n",
    "  (i, word) for word, i in target_token_index.items())"
   ]
  },
  {
   "cell_type": "code",
   "execution_count": 52,
   "metadata": {},
   "outputs": [],
   "source": [
    "def decode_sequence(input_seq):\n",
    "    # Encode the input as state vectors.\n",
    "    states_value = encoder_model.predict(input_seq)\n",
    "    # Generate empty target sequence of length 1.\n",
    "    target_seq = np.zeros((1,1))\n",
    "    # Populate the first character of target sequence with the start character.\n",
    "    target_seq[0, 0] = target_token_index['start_']\n",
    "\n",
    "    # Sampling loop for a batch of sequences\n",
    "    # (to simplify, here we assume a batch of size 1).\n",
    "    stop_condition = False\n",
    "    decoded_sentence = ''\n",
    "    while not stop_condition:\n",
    "        output_tokens, h, c = decoder_model.predict(\n",
    "            [target_seq] + states_value)\n",
    "\n",
    "        # Sample a token\n",
    "        sampled_token_index = np.argmax(output_tokens[0, -1, :])\n",
    "        sampled_char = reverse_target_word_index[sampled_token_index]\n",
    "        decoded_sentence += ' '+sampled_char\n",
    "\n",
    "        # Exit condition: either hit max length\n",
    "        # or find stop character.\n",
    "        if (sampled_char == '_end' or\n",
    "           len(decoded_sentence) > max_decoder_seq_length):\n",
    "            stop_condition = True\n",
    "\n",
    "        # Update the target sequence (of length 1).\n",
    "        target_seq = np.zeros((1,1))\n",
    "        target_seq[0, 0] = sampled_token_index\n",
    "\n",
    "        # Update states\n",
    "        states_value = [h, c]\n",
    "\n",
    "    return decoded_sentence"
   ]
  },
  {
   "cell_type": "code",
   "execution_count": 53,
   "metadata": {},
   "outputs": [
    {
     "data": {
      "text/plain": [
       "(9216, 8)"
      ]
     },
     "execution_count": 53,
     "metadata": {},
     "output_type": "execute_result"
    }
   ],
   "source": [
    "encoder_input_data.shape"
   ]
  },
  {
   "cell_type": "code",
   "execution_count": 54,
   "metadata": {},
   "outputs": [
    {
     "name": "stdout",
     "output_type": "stream",
     "text": [
      "-\n",
      "Input sentence: past hour walk status \n",
      "Decoded sentence:  select walk where\n",
      "-\n",
      "Input sentence: last hour walk status \n",
      "Decoded sentence:  select walk where\n",
      "-\n",
      "Input sentence: past two hour walk status \n",
      "Decoded sentence:  select walk where\n",
      "-\n",
      "Input sentence: last two hour walk status \n",
      "Decoded sentence:  select walk where\n",
      "-\n",
      "Input sentence: past three hour walk status \n",
      "Decoded sentence:  select walk where\n",
      "-\n",
      "Input sentence: last three hour walk status \n",
      "Decoded sentence:  select walk where\n",
      "-\n",
      "Input sentence: past four hour walk status \n",
      "Decoded sentence:  select walk where\n",
      "-\n",
      "Input sentence: last four hour walk status \n",
      "Decoded sentence:  select walk where\n",
      "-\n",
      "Input sentence: past five hour walk status \n",
      "Decoded sentence:  select walk where\n",
      "-\n",
      "Input sentence: last five hour walk status \n",
      "Decoded sentence:  select walk where\n",
      "-\n",
      "Input sentence: past six hour walk status \n",
      "Decoded sentence:  select walk where\n",
      "-\n",
      "Input sentence: last six hour walk status \n",
      "Decoded sentence:  select walk where\n",
      "-\n",
      "Input sentence: past seven hour walk status \n",
      "Decoded sentence:  select walk where\n",
      "-\n",
      "Input sentence: last seven hour walk status \n",
      "Decoded sentence:  select walk where\n",
      "-\n",
      "Input sentence: past eight hour walk status \n",
      "Decoded sentence:  select walk where\n",
      "-\n",
      "Input sentence: last eight hour walk status \n",
      "Decoded sentence:  select walk where\n",
      "-\n",
      "Input sentence: past nine hour walk status \n",
      "Decoded sentence:  select walk where\n",
      "-\n",
      "Input sentence: last nine hour walk status \n",
      "Decoded sentence:  select walk where\n",
      "-\n",
      "Input sentence: past ten hour walk status \n",
      "Decoded sentence:  select walk where\n",
      "-\n",
      "Input sentence: last ten hour walk status \n",
      "Decoded sentence:  select walk where\n",
      "-\n",
      "Input sentence: past eleven hour walk status \n",
      "Decoded sentence:  select walk where\n",
      "-\n",
      "Input sentence: last eleven hour walk status \n",
      "Decoded sentence:  select walk where\n",
      "-\n",
      "Input sentence: past tweleve hour walk status \n",
      "Decoded sentence:  select walk where\n",
      "-\n",
      "Input sentence: last tweleve hour walk status \n",
      "Decoded sentence:  select walk where\n",
      "-\n",
      "Input sentence: past one day walk status \n",
      "Decoded sentence:  select walk where\n",
      "-\n",
      "Input sentence: last one day walk status \n",
      "Decoded sentence:  select walk where\n",
      "-\n",
      "Input sentence: past two days walk status \n",
      "Decoded sentence:  select walk where\n",
      "-\n",
      "Input sentence: last two days walk status \n",
      "Decoded sentence:  select walk where\n",
      "-\n",
      "Input sentence: past three days walk status \n",
      "Decoded sentence:  select walk where\n",
      "-\n",
      "Input sentence: last three days walk status \n",
      "Decoded sentence:  select walk where\n",
      "-\n",
      "Input sentence: past three days walk status \n",
      "Decoded sentence:  select walk where\n",
      "-\n",
      "Input sentence: last three days walk status \n",
      "Decoded sentence:  select walk where\n",
      "-\n",
      "Input sentence: past four days walk status \n",
      "Decoded sentence:  select walk where\n",
      "-\n",
      "Input sentence: last four days walk status \n",
      "Decoded sentence:  select walk where\n",
      "-\n",
      "Input sentence: past four days walk status \n",
      "Decoded sentence:  select walk where\n",
      "-\n",
      "Input sentence: last four days walk status \n",
      "Decoded sentence:  select walk where\n",
      "-\n",
      "Input sentence: past two days walk status \n",
      "Decoded sentence:  select walk where\n",
      "-\n",
      "Input sentence: last two days walk status \n",
      "Decoded sentence:  select walk where\n",
      "-\n",
      "Input sentence: past five days walk status \n",
      "Decoded sentence:  select walk where\n",
      "-\n",
      "Input sentence: last five days walk status \n",
      "Decoded sentence:  select walk where\n",
      "-\n",
      "Input sentence: past five days walk status \n",
      "Decoded sentence:  select walk where\n",
      "-\n",
      "Input sentence: last five days walk status \n",
      "Decoded sentence:  select walk where\n",
      "-\n",
      "Input sentence: past seven days walk status \n",
      "Decoded sentence:  select walk where\n",
      "-\n",
      "Input sentence: last seven days walk status \n",
      "Decoded sentence:  select walk where\n",
      "-\n",
      "Input sentence: past seven days walk status \n",
      "Decoded sentence:  select walk where\n",
      "-\n",
      "Input sentence: last seven days walk status \n",
      "Decoded sentence:  select walk where\n",
      "-\n",
      "Input sentence: show me last one day trend for walk \n",
      "Decoded sentence:  select walk and hour\n",
      "-\n",
      "Input sentence: show me last two day trend for walk \n",
      "Decoded sentence:  select walk and hour\n",
      "-\n",
      "Input sentence: past hour walk status \n",
      "Decoded sentence:  select walk where\n",
      "-\n",
      "Input sentence: last hour walk status \n",
      "Decoded sentence:  select walk where\n"
     ]
    }
   ],
   "source": [
    "for seq_index in range(50):\n",
    "    \n",
    "    input_seq = encoder_input_data[seq_index: seq_index + 1]\n",
    "#     input_seq = pad_sequences(input_seq, maxlen=max_encoder_seq_length)\n",
    "    \n",
    "#     print(input_seq)\n",
    "    decoded_sentence = decode_sequence(input_seq)\n",
    "#     print(decoded_sentence)\n",
    "    print('-')\n",
    "    print('Input sentence:', input_texts[seq_index])\n",
    "    print('Decoded sentence:', decoded_sentence)"
   ]
  },
  {
   "cell_type": "code",
   "execution_count": 55,
   "metadata": {},
   "outputs": [
    {
     "name": "stdout",
     "output_type": "stream",
     "text": [
      "(9216, 8)\n",
      "13\n",
      "24\n",
      "11\n",
      "33\n",
      "25\n",
      "\n",
      "\n",
      "last six hour walk status -->\n",
      "  select walk where\n"
     ]
    }
   ],
   "source": [
    "input_sentence = \"last six hour walk status\"\n",
    "\n",
    "test_sentence_tokenized = np.zeros((len(input_texts), max_encoder_seq_length),dtype='float32')\n",
    "print(test_sentence_tokenized.shape)\n",
    "\n",
    "for t, word in enumerate(input_sentence.split()):\n",
    "    print(input_token_index[word])\n",
    "    test_sentence_tokenized[0, t] = input_token_index[word]\n",
    "    \n",
    "print(\"\\n\")   \n",
    "print(input_sentence,\"-->\\n\",decode_sequence(test_sentence_tokenized))"
   ]
  },
  {
   "cell_type": "code",
   "execution_count": null,
   "metadata": {},
   "outputs": [],
   "source": []
  },
  {
   "cell_type": "code",
   "execution_count": null,
   "metadata": {},
   "outputs": [],
   "source": []
  }
 ],
 "metadata": {
  "kernelspec": {
   "display_name": "Python 3",
   "language": "python",
   "name": "python3"
  },
  "language_info": {
   "codemirror_mode": {
    "name": "ipython",
    "version": 3
   },
   "file_extension": ".py",
   "mimetype": "text/x-python",
   "name": "python",
   "nbconvert_exporter": "python",
   "pygments_lexer": "ipython3",
   "version": "3.7.3"
  }
 },
 "nbformat": 4,
 "nbformat_minor": 2
}
